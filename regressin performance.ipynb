{
 "cells": [
  {
   "cell_type": "code",
   "execution_count": 1,
   "id": "6f3b8371-873a-4c97-aa7e-ea9d13a4bf3a",
   "metadata": {},
   "outputs": [
    {
     "name": "stdout",
     "output_type": "stream",
     "text": [
      "Mean Absolute Error (MAE): 0.22\n",
      "Mean Squared Error (MSE): 0.06\n",
      "Root Mean Squared Error (RMSE): 0.24\n",
      "R-squared (R²) Score: 0.96\n"
     ]
    }
   ],
   "source": [
    "from sklearn.metrics import mean_absolute_error, mean_squared_error, r2_score\n",
    "import numpy as np\n",
    "\n",
    "# True values\n",
    "true_values = np.array([2.5, 3.7, 1.8, 4.0, 5.2])\n",
    "# Predicted values from a regression model\n",
    "predicted_values = np.array([2.1, 3.9, 1.7, 3.8, 5.0])\n",
    "\n",
    "# Calculate MAE\n",
    "mae = mean_absolute_error(true_values, predicted_values)\n",
    "print(f\"Mean Absolute Error (MAE): {mae:.2f}\")\n",
    "\n",
    "# Calculate MSE\n",
    "mse = mean_squared_error(true_values, predicted_values)\n",
    "print(f\"Mean Squared Error (MSE): {mse:.2f}\")\n",
    "\n",
    "# Calculate RMSE\n",
    "rmse = np.sqrt(mse)\n",
    "print(f\"Root Mean Squared Error (RMSE): {rmse:.2f}\")\n",
    "\n",
    "# Calculate R-squared\n",
    "r2 = r2_score(true_values, predicted_values)\n",
    "print(f\"R-squared (R²) Score: {r2:.2f}\")"
   ]
  },
  {
   "cell_type": "code",
   "execution_count": null,
   "id": "655219d3-2a27-4a36-abdc-6ee4febd5e06",
   "metadata": {},
   "outputs": [],
   "source": []
  }
 ],
 "metadata": {
  "kernelspec": {
   "display_name": "Python 3 (ipykernel)",
   "language": "python",
   "name": "python3"
  },
  "language_info": {
   "codemirror_mode": {
    "name": "ipython",
    "version": 3
   },
   "file_extension": ".py",
   "mimetype": "text/x-python",
   "name": "python",
   "nbconvert_exporter": "python",
   "pygments_lexer": "ipython3",
   "version": "3.12.10"
  }
 },
 "nbformat": 4,
 "nbformat_minor": 5
}
